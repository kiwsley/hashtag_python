{
 "cells": [
  {
   "cell_type": "code",
   "execution_count": 15,
   "metadata": {},
   "outputs": [],
   "source": [
    "from selenium import webdriver\n",
    "from selenium.webdriver.chrome.service import Service # para atualizar o drivers do webdrive\n",
    "from webdriver_manager.chrome import ChromeDriverManager\n",
    "\n",
    "\n",
    "servico = Service(ChromeDriverManager().install())\n",
    "\n",
    "navegador = webdriver.Chrome(service= servico)"
   ]
  },
  {
   "cell_type": "code",
   "execution_count": 16,
   "metadata": {},
   "outputs": [],
   "source": [
    "import os\n",
    "caminho = os.getcwd()\n",
    "arquivo = caminho + \"\\Arquivos\\Pagina Hashtag.html\"\n",
    "url='https://www.hashtagtreinamentos.com/' #Apenas para teste\n",
    "navegador.get(arquivo)"
   ]
  },
  {
   "cell_type": "code",
   "execution_count": 4,
   "metadata": {},
   "outputs": [
    {
     "name": "stdout",
     "output_type": "stream",
     "text": [
      "TODOS OS CURSOS DA HASHTAG TREINAMENTOS\n"
     ]
    }
   ],
   "source": [
    "from selenium.webdriver.common.by import By\n",
    "#selecionando o titulo pegando atraves da variavel arquivo\n",
    "titulo=navegador.find_element(By.TAG_NAME,'h2').text\n",
    "print(titulo)"
   ]
  },
  {
   "cell_type": "code",
   "execution_count": 10,
   "metadata": {},
   "outputs": [
    {
     "name": "stdout",
     "output_type": "stream",
     "text": [
      "(21) 99658-2442 (WhatsApp)\n"
     ]
    }
   ],
   "source": [
    "#selecionar o partial link text ou link_text\n",
    "#Pegando atraves da variavel URL\n",
    "numero_Whatsapp = navegador.find_element(By.PARTIAL_LINK_TEXT, \"WhatsApp\").text\n",
    "print(numero_Whatsapp)"
   ]
  },
  {
   "cell_type": "code",
   "execution_count": 11,
   "metadata": {},
   "outputs": [],
   "source": [
    "#preencher fomulario\n",
    "\n",
    "navegador.find_element(By.NAME,'email').send_keys(\"kiw@gmail.com\")"
   ]
  },
  {
   "cell_type": "code",
   "execution_count": 19,
   "metadata": {},
   "outputs": [],
   "source": [
    "#Selecionando Varios elements\n",
    "\n",
    "lista_elementos=navegador.find_elements(By.CLASS_NAME,'nav-link')\n",
    "for elemento in lista_elementos:\n",
    "    if 'BLOG' in elemento.text:\n",
    "        elemento.click()\n",
    "        break\n"
   ]
  },
  {
   "cell_type": "code",
   "execution_count": 17,
   "metadata": {},
   "outputs": [
    {
     "name": "stdout",
     "output_type": "stream",
     "text": [
      "BLOG\n"
     ]
    }
   ],
   "source": [
    "#Pegando o texto da pagina Blog\n",
    "texto = navegador.find_element(By.XPATH,'//*[@id=\"menu-item-58\"]/a').text\n",
    "print(texto)"
   ]
  }
 ],
 "metadata": {
  "kernelspec": {
   "display_name": "Python 3",
   "language": "python",
   "name": "python3"
  },
  "language_info": {
   "codemirror_mode": {
    "name": "ipython",
    "version": 3
   },
   "file_extension": ".py",
   "mimetype": "text/x-python",
   "name": "python",
   "nbconvert_exporter": "python",
   "pygments_lexer": "ipython3",
   "version": "3.11.4"
  }
 },
 "nbformat": 4,
 "nbformat_minor": 2
}
