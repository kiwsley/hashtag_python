{
 "cells": [
  {
   "cell_type": "code",
   "execution_count": 15,
   "metadata": {},
   "outputs": [],
   "source": [
    "from selenium import webdriver\n",
    "from selenium.webdriver.chrome.service import Service # para atualizar o drivers do webdrive\n",
    "from webdriver_manager.chrome import ChromeDriverManager\n",
    "from selenium.webdriver.common.by import By\n",
    "\n",
    "\n",
    "\n",
    "servico = Service(ChromeDriverManager().install())\n",
    "\n",
    "navegador = webdriver.Chrome(service= servico)"
   ]
  },
  {
   "cell_type": "code",
   "execution_count": 16,
   "metadata": {},
   "outputs": [],
   "source": [
    "import os\n",
    "caminho = os.getcwd()\n",
    "arquivo = caminho + \"/Arquivos/Pagina Hashtag.html\"\n",
    "url='https://www.hashtagtreinamentos.com/' #Apenas para teste\n",
    "navegador.get(arquivo)"
   ]
  },
  {
   "cell_type": "code",
   "execution_count": 17,
   "metadata": {},
   "outputs": [],
   "source": [
    "#extraindo o link \n",
    "\n",
    "link = navegador.find_element(By.XPATH, '//*[@id=\"menu-item-17042\"]/a').get_attribute(\"href\")\n",
    "\n",
    "navegador.get(link)"
   ]
  },
  {
   "cell_type": "code",
   "execution_count": 21,
   "metadata": {},
   "outputs": [],
   "source": [
    "from selenium.webdriver import ActionChains\n",
    "import time\n",
    "\n",
    "menu= navegador.find_element(By.XPATH,'//*[@id=\"menu-item-16313\"]/a')\n",
    "item= navegador.find_element(By.XPATH, '//*[@id=\"menu-item-17042\"]/a')\n",
    "\n",
    "#Colocar o mouse em cima\n",
    "ActionChains(navegador).move_to_element(menu).perform()\n",
    "time.sleep(1)\n",
    "item.click()"
   ]
  }
 ],
 "metadata": {
  "kernelspec": {
   "display_name": "Python 3",
   "language": "python",
   "name": "python3"
  },
  "language_info": {
   "codemirror_mode": {
    "name": "ipython",
    "version": 3
   },
   "file_extension": ".py",
   "mimetype": "text/x-python",
   "name": "python",
   "nbconvert_exporter": "python",
   "pygments_lexer": "ipython3",
   "version": "3.11.4"
  }
 },
 "nbformat": 4,
 "nbformat_minor": 2
}
