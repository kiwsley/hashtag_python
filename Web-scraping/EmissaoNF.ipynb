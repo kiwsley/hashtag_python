{
 "cells": [
  {
   "cell_type": "code",
   "execution_count": 97,
   "metadata": {},
   "outputs": [],
   "source": [
    "from selenium import webdriver\n",
    "from selenium.webdriver.chrome.service import Service # para atualizar o drivers do webdrive\n",
    "from webdriver_manager.chrome import ChromeDriverManager\n",
    "from selenium.webdriver.common.by import By\n",
    "import pandas as pd\n",
    "\n",
    "#servico = Service(ChromeDriverManager().install()) #Caso não tenha o webdribe instalado\n",
    "\n",
    "#evitar o pop-up do google chrome\n",
    "options = webdriver.ChromeOptions()\n",
    "options.add_experimental_option(\"prefs\", {\n",
    "  \"download.default_directory\": r\"C:\\Users\\kiwsley\\downloads\",\n",
    "  \"download.prompt_for_download\": False,\n",
    "  \"download.directory_upgrade\": True,\n",
    "  \"safebrowsing.enabled\": True\n",
    "})\n",
    "\n",
    "navegador = webdriver.Chrome(options=options)\n",
    "\n",
    "\n"
   ]
  },
  {
   "cell_type": "code",
   "execution_count": 98,
   "metadata": {},
   "outputs": [],
   "source": [
    "#Entrar na pagina de login ()\n",
    "\n",
    "import os\n",
    "caminho = os.getcwd()\n",
    "arquivo = caminho +\"\\login.html\"\n",
    "navegador.get(arquivo)\n",
    "\n"
   ]
  },
  {
   "cell_type": "code",
   "execution_count": 99,
   "metadata": {},
   "outputs": [],
   "source": [
    "#preencher o login e senha\n",
    "navegador.find_element(By.XPATH,\"/html/body/div/form/input[1]\").send_keys(\"kiwsley@gmail.com\")\n",
    "#senha\n",
    "navegador.find_element(By.XPATH,\"/html/body/div/form/input[2]\").send_keys(\"123456\")\n",
    "\n"
   ]
  },
  {
   "cell_type": "code",
   "execution_count": 100,
   "metadata": {},
   "outputs": [],
   "source": [
    "#clicar no botão de fazer login\n",
    "navegador.find_element(By.TAG_NAME,\"button\").click()\n"
   ]
  },
  {
   "cell_type": "code",
   "execution_count": 101,
   "metadata": {},
   "outputs": [],
   "source": [
    "#importar a base de dados\n",
    "df = pd.read_excel(\"NotasEmitir.xlsx\")\n",
    "\n",
    "#rodar a emissão para cada cliente"
   ]
  },
  {
   "cell_type": "code",
   "execution_count": 102,
   "metadata": {},
   "outputs": [],
   "source": [
    "import time\n",
    "#Preencher os dados da nota fiscar\n",
    "\n",
    "for linha in df.index:\n",
    "\n",
    "    #nome razão social\n",
    "    navegador.find_element(By.NAME,\"nome\").send_keys(df.loc[linha, \"Cliente\"])\n",
    "\n",
    "    #endereço\n",
    "    navegador.find_element(By.NAME,\"endereco\").send_keys(df.loc[linha, \"Endereço\"])\n",
    "\n",
    "    #bairro\n",
    "    navegador.find_element(By.NAME,\"bairro\").send_keys(df.loc[linha, \"Bairro\"])\n",
    "\n",
    "    #Município\n",
    "    navegador.find_element(By.NAME,\"municipio\").send_keys(df.loc[linha, \"Municipio\"])\n",
    "\n",
    "    #CEP\n",
    "    navegador.find_element(By.NAME,\"cep\").send_keys(str(df.loc[linha, \"CEP\"]))\n",
    "\n",
    "    #UF\n",
    "    navegador.find_element(By.NAME,\"uf\").send_keys(df.loc[linha, \"UF\"])\n",
    "\n",
    "    #CNPJ\n",
    "    navegador.find_element(By.NAME,\"cnpj\").send_keys(str(df.loc[linha, \"CPF/CNPJ\"]))\n",
    "\n",
    "    #inscrição estadudal\n",
    "    navegador.find_element(By.NAME,\"inscricao\").send_keys(str(df.loc[linha, \"Inscricao Estadual\"]))\n",
    "\n",
    "    #descriçao\n",
    "    navegador.find_element(By.NAME,\"descricao\").send_keys(df.loc[linha, \"Descrição\"])\n",
    "\n",
    "    #quantidade\n",
    "    navegador.find_element(By.NAME,\"quantidade\").send_keys(str(df.loc[linha, \"Quantidade\"]))\n",
    "\n",
    "    #valor unitario\n",
    "    navegador.find_element(By.NAME,\"valor_unitario\").send_keys(str(df.loc[linha, \"Valor Unitario\"]))\n",
    "\n",
    "    #valorTotal\n",
    "    navegador.find_element(By.NAME,\"total\").send_keys(str(df.loc[linha, \"Valor Total\"]))\n",
    "\n",
    "\n",
    "\n",
    "    #Clicar no botão emitir\n",
    "\n",
    "    navegador.find_element(By.CLASS_NAME,\"registerbtn\").click()\n",
    "    #recarregar\n",
    "    navegador.refresh()\n",
    "    time.sleep(1)\n",
    "\n",
    "\n"
   ]
  }
 ],
 "metadata": {
  "kernelspec": {
   "display_name": "Python 3",
   "language": "python",
   "name": "python3"
  },
  "language_info": {
   "codemirror_mode": {
    "name": "ipython",
    "version": 3
   },
   "file_extension": ".py",
   "mimetype": "text/x-python",
   "name": "python",
   "nbconvert_exporter": "python",
   "pygments_lexer": "ipython3",
   "version": "3.11.4"
  }
 },
 "nbformat": 4,
 "nbformat_minor": 2
}
