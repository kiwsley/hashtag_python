{
 "cells": [
  {
   "cell_type": "code",
   "execution_count": 12,
   "metadata": {},
   "outputs": [],
   "source": [
    "from selenium import webdriver\n",
    "from selenium.webdriver.chrome.service import Service # para atualizar o drivers do webdrive\n",
    "from webdriver_manager.chrome import ChromeDriverManager\n",
    "from selenium.webdriver.common.by import By\n",
    "\n",
    "#servico = Service(ChromeDriverManager().install())Caso não tenha o webdribe instalado\n",
    "\n",
    "navegador = webdriver.Chrome()\n"
   ]
  },
  {
   "cell_type": "code",
   "execution_count": 13,
   "metadata": {},
   "outputs": [],
   "source": [
    "#Entrar na pagina de login ()\n",
    "\n",
    "import os\n",
    "caminho = os.getcwd()\n",
    "arquivo = caminho +\"\\login.html\"\n",
    "navegador.get(arquivo)\n",
    "\n"
   ]
  },
  {
   "cell_type": "code",
   "execution_count": 14,
   "metadata": {},
   "outputs": [],
   "source": [
    "#preencher o login e senha\n",
    "navegador.find_element(By.XPATH,\"/html/body/div/form/input[1]\").send_keys(\"kiwsley@gmail.com\")\n",
    "#senha\n",
    "navegador.find_element(By.XPATH,\"/html/body/div/form/input[2]\").send_keys(\"123456\")\n",
    "\n"
   ]
  },
  {
   "cell_type": "code",
   "execution_count": 15,
   "metadata": {},
   "outputs": [],
   "source": [
    "#clicar no botão de fazer login\n",
    "navegador.find_element(By.TAG_NAME,\"button\").click()\n"
   ]
  },
  {
   "cell_type": "code",
   "execution_count": 16,
   "metadata": {},
   "outputs": [],
   "source": [
    "#Preencher os dados da nota fiscar\n",
    "\n",
    "#nome razão social\n",
    "navegador.find_element(By.NAME,\"nome\").send_keys(\"treinamento py\")\n",
    "\n",
    "#endereço\n",
    "navegador.find_element(By.NAME,\"endereco\").send_keys(\"rua A lado B\")\n",
    "\n",
    "#bairro\n",
    "navegador.find_element(By.NAME,\"bairro\").send_keys(\"malvinas\")\n",
    "\n",
    "#Município\n",
    "navegador.find_element(By.NAME,\"municipio\").send_keys(\"Campina Grande\")\n",
    "\n",
    "#CEP\n",
    "navegador.find_element(By.NAME,\"cep\").send_keys(\"58400-000\")\n",
    "\n",
    "#UF\n",
    "navegador.find_element(By.NAME,\"uf\").send_keys(\"PB\")\n",
    "\n",
    "#CNPJ\n",
    "navegador.find_element(By.NAME,\"cnpj\").send_keys(\"12345678900\")\n",
    "\n",
    "#inscrição estadudal\n",
    "navegador.find_element(By.NAME,\"inscricao\").send_keys(\"111111111\")\n",
    "\n",
    "#descriçao\n",
    "navegador.find_element(By.NAME,\"descricao\").send_keys(\"produto\")\n",
    "\n",
    "#quantidade\n",
    "navegador.find_element(By.NAME,\"quantidade\").send_keys(\"10\")\n",
    "\n",
    "#valor unitario\n",
    "navegador.find_element(By.NAME,\"valor_unitario\").send_keys(\"100\")\n",
    "\n",
    "#valorTotal\n",
    "navegador.find_element(By.NAME,\"total\").send_keys(\"1000\")\n",
    "\n",
    "\n",
    "\n",
    "\n",
    "\n",
    "\n"
   ]
  }
 ],
 "metadata": {
  "kernelspec": {
   "display_name": "Python 3",
   "language": "python",
   "name": "python3"
  },
  "language_info": {
   "codemirror_mode": {
    "name": "ipython",
    "version": 3
   },
   "file_extension": ".py",
   "mimetype": "text/x-python",
   "name": "python",
   "nbconvert_exporter": "python",
   "pygments_lexer": "ipython3",
   "version": "3.11.4"
  }
 },
 "nbformat": 4,
 "nbformat_minor": 2
}
