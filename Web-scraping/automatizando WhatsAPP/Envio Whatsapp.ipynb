{
 "cells": [
  {
   "cell_type": "markdown",
   "id": "cf42a93c",
   "metadata": {},
   "source": [
    "### Cuidados!\n",
    " \n",
    "1. Whatsapp não gosta de nenhum tipo de automação\n",
    "2. Isso pode dar merda, já to avisando\n",
    "3. Isso não é o uso da API oficial do Whatsapp, o próprio whatsapp tem uma API oficial. Se o seu objetivo é fazer envio em massa ou criar aqueles robozinhos que respondem automaticamente no whatsapp, então use a API oficial\n",
    "4. Meu objetivo é 100% educacional\n",
    "\n",
    "### Dito isso, bora automatizar o envio de mensagens no Whatsapp\n",
    "\n",
    "- Vamos usar o Selenium (vídeo da configuração na descrição)\n",
    "- Temos 1 alternativa muito boa:\n",
    "- Usar o https://web.whatsapp.com/send?phone=numero&text=texto (mais fácil, mais seguro, mas mais demorado)\n"
   ]
  },
  {
   "cell_type": "code",
   "execution_count": 42,
   "id": "dc363f99",
   "metadata": {},
   "outputs": [],
   "source": [
    "from selenium import webdriver\n",
    "from selenium.webdriver.chrome.service import Service\n",
    "from webdriver_manager.chrome import ChromeDriverManager\n",
    "from selenium.webdriver.common.by import By\n",
    "import os\n",
    "import time\n",
    "\n",
    "\n",
    "servico = Service(ChromeDriverManager().install())\n",
    "\n",
    "navegador = webdriver.Chrome()"
   ]
  },
  {
   "cell_type": "code",
   "execution_count": 43,
   "id": "5ec2043b",
   "metadata": {},
   "outputs": [],
   "source": [
    "\n",
    "#caminho = os.getcwd()\n",
    "whatsapp =\"https://web.whatsapp.com/\"\n",
    "#arquivo = caminho + \"/Pagina Hashtag.html\"\n",
    "#url='https://www.hashtagtreinamentos.com/' #Apenas para teste\n",
    "navegador.get(whatsapp)\n",
    "\n",
    "#esperar a tela carregar\n",
    "\n",
    "while len(navegador.find_elements(By.ID,'side'))<1: #Retorna uma lista\n",
    "        time.sleep(1)\n",
    "\n"
   ]
  },
  {
   "cell_type": "code",
   "execution_count": 47,
   "id": "73522134",
   "metadata": {},
   "outputs": [
    {
     "name": "stderr",
     "output_type": "stream",
     "text": [
      "C:\\Users\\Kiwsley\\AppData\\Local\\Temp\\ipykernel_19168\\1370657295.py:5: SettingWithCopyWarning: \n",
      "A value is trying to be set on a copy of a slice from a DataFrame\n",
      "\n",
      "See the caveats in the documentation: https://pandas.pydata.org/pandas-docs/stable/user_guide/indexing.html#returning-a-view-versus-a-copy\n",
      "  tabela[\"nome\"][0]=\"Raiany\"\n"
     ]
    },
    {
     "data": {
      "text/html": [
       "<div>\n",
       "<style scoped>\n",
       "    .dataframe tbody tr th:only-of-type {\n",
       "        vertical-align: middle;\n",
       "    }\n",
       "\n",
       "    .dataframe tbody tr th {\n",
       "        vertical-align: top;\n",
       "    }\n",
       "\n",
       "    .dataframe thead th {\n",
       "        text-align: right;\n",
       "    }\n",
       "</style>\n",
       "<table border=\"1\" class=\"dataframe\">\n",
       "  <thead>\n",
       "    <tr style=\"text-align: right;\">\n",
       "      <th></th>\n",
       "      <th>nome</th>\n",
       "      <th>mensagem</th>\n",
       "      <th>arquivo</th>\n",
       "      <th>telefone</th>\n",
       "    </tr>\n",
       "  </thead>\n",
       "  <tbody>\n",
       "    <tr>\n",
       "      <th>0</th>\n",
       "      <td>Raiany</td>\n",
       "      <td>E aí, fulano, tudo certo?</td>\n",
       "      <td>N</td>\n",
       "      <td>558399609026</td>\n",
       "    </tr>\n",
       "    <tr>\n",
       "      <th>1</th>\n",
       "      <td>Alon Hashtag</td>\n",
       "      <td>Coe fulano, bora surfar?</td>\n",
       "      <td>N</td>\n",
       "      <td>558399609026</td>\n",
       "    </tr>\n",
       "    <tr>\n",
       "      <th>2</th>\n",
       "      <td>Lira Hashtag</td>\n",
       "      <td>Viajou, fulano. Olha isso:</td>\n",
       "      <td>pythonimpressionador.png</td>\n",
       "      <td>5583996090260</td>\n",
       "    </tr>\n",
       "  </tbody>\n",
       "</table>\n",
       "</div>"
      ],
      "text/plain": [
       "           nome                    mensagem                   arquivo  \\\n",
       "0        Raiany   E aí, fulano, tudo certo?                         N   \n",
       "1  Alon Hashtag    Coe fulano, bora surfar?                         N   \n",
       "2  Lira Hashtag  Viajou, fulano. Olha isso:  pythonimpressionador.png   \n",
       "\n",
       "        telefone  \n",
       "0   558399609026  \n",
       "1   558399609026  \n",
       "2  5583996090260  "
      ]
     },
     "metadata": {},
     "output_type": "display_data"
    }
   ],
   "source": [
    "#O whatsapp carregou\n",
    "import pandas as pd\n",
    "\n",
    "tabela = pd.read_excel(\"Envios.xlsx\")\n",
    "tabela[\"nome\"][0]=\"Raiany\"\n",
    "tabela[\"telefone\"]=\"5583996090260\"\n",
    "tabela[\"telefone\"][0]=\"558399609026\"\n",
    "tabela[\"telefone\"][1]=\"558399609026\"\n",
    "display (tabela)\n"
   ]
  },
  {
   "cell_type": "code",
   "execution_count": 56,
   "id": "44df714c",
   "metadata": {},
   "outputs": [
    {
     "name": "stdout",
     "output_type": "stream",
     "text": [
      "c:\\Users\\Kiwsley\\Documents\\Python - Hashtag\\hashtag_python\\Web-scraping\\automatizando WhatsAPP\\arquivos\\pythonimpressionador.png\n"
     ]
    }
   ],
   "source": [
    "import urllib\n",
    "import urllib.parse\n",
    "\n",
    "for linha in tabela.index: \n",
    "    nome=tabela.loc[linha,\"nome\"]\n",
    "    mensagem=tabela.loc[linha,\"mensagem\"]\n",
    "    arquivo = tabela.loc[linha,\"arquivo\"]\n",
    "    telefone =tabela.loc[linha,\"telefone\"]\n",
    "\n",
    "    texto = mensagem.replace(\"fulano\",nome)\n",
    "    texto = urllib.parse.quote(texto)\n",
    "    #print(texto)\n",
    "    #enviar mensagem\n",
    "    link= f\"https://web.whatsapp.com/send?phone={telefone}&text={texto}\"\n",
    "    \n",
    "    navegador.get(link)\n",
    "    #esperar a tela carregar\n",
    "\n",
    "    while len(navegador.find_elements(By.ID,'side'))<1: #Retorna uma lista\n",
    "        time.sleep(1)\n",
    "    time.sleep(2) #Garantia \n",
    "\n",
    "    #Verificar se o numero é inválido\n",
    "    if len(navegador.find_elements(By.XPATH,'//*[@id=\"app\"]/div/span[2]/div/span/div/div/div/div/div/div[1]'))<1:\n",
    "        \n",
    "        #enviando o arquivo\n",
    "        if arquivo!=\"N\":\n",
    "            caminho_completo = os.path.abspath(f\"arquivos/{arquivo}\")\n",
    "            print(caminho_completo)\n",
    "            navegador.find_element(By.XPATH,'//*[@id=\"main\"]/footer/div[1]/div/span[2]/div/div[1]/div[2]/div/div/div/span').click()\n",
    "            time.sleep(1)\n",
    "            navegador.find_element(By.XPATH, \n",
    "                                   '//*[@id=\"main\"]/footer/div[1]/div/span[2]/div/div[1]/div[2]/div/span/div/ul/div/div[2]/li/div/input').send_keys(caminho_completo)\n",
    "            time.sleep(2)\n",
    "            navegador.find_element(By.XPATH,'//*[@id=\"app\"]/div/div[2]/div[2]/div[2]/span/div/div/div/div[2]/div/div[2]/div[2]/div/div/span').click()\n",
    "        else:\n",
    "            #enviar a mensagem\n",
    "            navegador.find_element(By.XPATH,'//*[@id=\"main\"]/footer/div[1]/div/span[2]/div/div[2]/div[2]/button/span').click()\n",
    "            time.sleep(3)    \n",
    "\n",
    "\n",
    "\n",
    "\n",
    "\n",
    "\n",
    "\n"
   ]
  },
  {
   "cell_type": "code",
   "execution_count": null,
   "id": "0949f273",
   "metadata": {},
   "outputs": [],
   "source": []
  }
 ],
 "metadata": {
  "kernelspec": {
   "display_name": "Python 3 (ipykernel)",
   "language": "python",
   "name": "python3"
  },
  "language_info": {
   "codemirror_mode": {
    "name": "ipython",
    "version": 3
   },
   "file_extension": ".py",
   "mimetype": "text/x-python",
   "name": "python",
   "nbconvert_exporter": "python",
   "pygments_lexer": "ipython3",
   "version": "3.11.4"
  }
 },
 "nbformat": 4,
 "nbformat_minor": 5
}
