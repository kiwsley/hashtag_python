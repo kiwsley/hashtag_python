{
 "cells": [
  {
   "cell_type": "code",
   "execution_count": 1,
   "metadata": {},
   "outputs": [],
   "source": [
    "from selenium import webdriver\n",
    "from selenium.webdriver.chrome.service import Service # para atualizar o drivers do webdrive\n",
    "from webdriver_manager.chrome import ChromeDriverManager\n",
    "\n",
    "\n",
    "servico = Service(ChromeDriverManager().install())\n",
    "\n",
    "navegador = webdriver.Chrome(service= servico)"
   ]
  },
  {
   "cell_type": "code",
   "execution_count": 2,
   "metadata": {},
   "outputs": [],
   "source": [
    "import os\n",
    "caminho = os.getcwd()\n",
    "arquivo = caminho + \"/formulario.html\"\n",
    "url='https://www.hashtagtreinamentos.com/' #Apenas para teste\n",
    "navegador.get(arquivo)"
   ]
  },
  {
   "cell_type": "code",
   "execution_count": 3,
   "metadata": {},
   "outputs": [],
   "source": [
    "from selenium.webdriver.common.by import By\n",
    "from selenium.webdriver.common.keys import Keys\n",
    "#Clicando no botão\n",
    "\n",
    "navegador.find_element(By.XPATH,\"/html/body/form/input[1]\").click()\n",
    "#pop-up\n",
    "alerta = navegador.switch_to.alert\n",
    "alerta.accept()\n"
   ]
  },
  {
   "cell_type": "code",
   "execution_count": 4,
   "metadata": {},
   "outputs": [],
   "source": [
    "#Selecao estilo Checkbox (clica no botão)\n",
    "\n",
    "navegador.find_element(By.XPATH,'/html/body/form/input[3]').click()\n"
   ]
  },
  {
   "cell_type": "code",
   "execution_count": 5,
   "metadata": {},
   "outputs": [
    {
     "name": "stdout",
     "output_type": "stream",
     "text": [
      "True\n"
     ]
    }
   ],
   "source": [
    "#verificar o valor do botão(selecionado ou não)\n",
    "valor =navegador.find_element(By.XPATH,'/html/body/form/input[3]').is_selected()\n",
    "print(valor)\n"
   ]
  },
  {
   "cell_type": "code",
   "execution_count": 6,
   "metadata": {},
   "outputs": [
    {
     "name": "stdout",
     "output_type": "stream",
     "text": [
      "#000000\n",
      "Flamengo\n"
     ]
    }
   ],
   "source": [
    "#selecionado cores RGB\n",
    "\n",
    "valor_RGB = navegador.find_element(By.XPATH,'/html/body/form/input[4]').get_attribute('value')\n",
    "print(valor_RGB)\n",
    "\n",
    "#814646\n",
    "navegador.find_element(By.XPATH,'/html/body/form/input[4]').send_keys(\"#3145DD\")\n",
    "\n",
    "#preencher em uma caixa de texto\n",
    "navegador.find_element(By.XPATH,'/html/body/form/input[16]').send_keys('Flamengo')\n",
    "\n",
    "#Verificar valor\n",
    "\n",
    "valor_texto=navegador.find_element(By.XPATH,'/html/body/form/input[16]').get_attribute('value')\n",
    "print(valor_texto)\n"
   ]
  },
  {
   "cell_type": "code",
   "execution_count": 7,
   "metadata": {},
   "outputs": [
    {
     "name": "stdout",
     "output_type": "stream",
     "text": [
      "1996-08-17\n"
     ]
    }
   ],
   "source": [
    "#preenchendo data\n",
    "#ficar atendo ao formato da data\n",
    "\n",
    "navegador.find_element(By.XPATH,\"/html/body/form/input[6]\").send_keys(\"17/08/1996\")\n",
    "#Devolvendo em padrão EUA\n",
    "Valor_data = navegador.find_element(By.XPATH,\"/html/body/form/input[6]\").get_attribute('value')\n",
    "print(Valor_data)"
   ]
  },
  {
   "cell_type": "code",
   "execution_count": 8,
   "metadata": {},
   "outputs": [
    {
     "name": "stdout",
     "output_type": "stream",
     "text": [
      "1999-01\n"
     ]
    }
   ],
   "source": [
    "#preenche\n",
    "navegador.find_element(By.XPATH,\"/html/body/form/input[9]\").send_keys(\"janeiro\", Keys.TAB, \"1999\")\n",
    "#pegando o valor\n",
    "\n",
    "valor_data =navegador.find_element(By.XPATH,\"/html/body/form/input[9]\").get_attribute(\"value\")\n",
    "\n",
    "print(valor_data)"
   ]
  },
  {
   "cell_type": "code",
   "execution_count": 9,
   "metadata": {},
   "outputs": [],
   "source": [
    "#radions buttons\n",
    "\n",
    "navegador.find_element(By.XPATH,\"/html/body/form/input[14]\").click()"
   ]
  },
  {
   "cell_type": "code",
   "execution_count": 10,
   "metadata": {},
   "outputs": [
    {
     "name": "stdout",
     "output_type": "stream",
     "text": [
      "50\n"
     ]
    }
   ],
   "source": [
    "#slider\n",
    "\n",
    "valor_slider = navegador.find_element(By.XPATH,\"/html/body/form/input[15]\").get_attribute(\"value\")\n",
    "\n",
    "print(valor_slider)"
   ]
  },
  {
   "cell_type": "code",
   "execution_count": 11,
   "metadata": {},
   "outputs": [],
   "source": [
    "elemento = valor_slider = navegador.find_element(By.XPATH,\"/html/body/form/input[15]\")\n",
    "elemento.clear()\n",
    "#Clicando no botão de seta a direita\n",
    "for i in range(70-50):\n",
    "    elemento.send_keys(Keys.ARROW_RIGHT)"
   ]
  },
  {
   "cell_type": "code",
   "execution_count": 12,
   "metadata": {},
   "outputs": [],
   "source": [
    "#selecionar iten\n",
    "\n",
    "navegador.find_element(By.XPATH,\"/html/body/form/select[1]\").send_keys('C')"
   ]
  },
  {
   "cell_type": "code",
   "execution_count": 20,
   "metadata": {},
   "outputs": [],
   "source": [
    "#Clicando\n",
    "import time\n",
    "navegador.find_element(By.XPATH,\"/html/body/form/select[1]\").click()\n",
    "\n",
    "#selecionado a opção A\n",
    "time.sleep(1)\n",
    "navegador.find_element(By.XPATH,\"/html/body/form/select[1]/option[1]\").click()\n",
    "\n",
    "\n"
   ]
  },
  {
   "cell_type": "code",
   "execution_count": 22,
   "metadata": {},
   "outputs": [],
   "source": [
    "#utilizando o selenium com o select\n",
    "\n",
    "from selenium.webdriver.support.select import Select\n",
    "\n",
    "elemento = navegador.find_element(By.TAG_NAME,\"select\")\n",
    "elemento_select = Select(elemento)"
   ]
  },
  {
   "cell_type": "code",
   "execution_count": 24,
   "metadata": {},
   "outputs": [],
   "source": [
    "elemento_select.select_by_index(2)"
   ]
  }
 ],
 "metadata": {
  "kernelspec": {
   "display_name": "Python 3",
   "language": "python",
   "name": "python3"
  },
  "language_info": {
   "codemirror_mode": {
    "name": "ipython",
    "version": 3
   },
   "file_extension": ".py",
   "mimetype": "text/x-python",
   "name": "python",
   "nbconvert_exporter": "python",
   "pygments_lexer": "ipython3",
   "version": "3.11.4"
  }
 },
 "nbformat": 4,
 "nbformat_minor": 2
}
