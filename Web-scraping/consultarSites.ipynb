{
 "cells": [
  {
   "cell_type": "code",
   "execution_count": 12,
   "metadata": {},
   "outputs": [],
   "source": [
    "from selenium import webdriver\n",
    "from selenium.webdriver.chrome.service import Service\n",
    "from webdriver_manager.chrome import ChromeDriverManager\n",
    "from selenium.webdriver.common.by import By\n",
    "\n",
    "servico = Service(ChromeDriverManager().install())\n",
    "navegador = webdriver.Chrome(service=servico)"
   ]
  },
  {
   "cell_type": "code",
   "execution_count": 15,
   "metadata": {},
   "outputs": [],
   "source": [
    "import os\n",
    "\n",
    "caminho = os.getcwd()\n",
    "arquivo = caminho + \"/Nova Pasta/index.html\"\n",
    "navegador.get(arquivo)"
   ]
  },
  {
   "cell_type": "code",
   "execution_count": 16,
   "metadata": {},
   "outputs": [],
   "source": [
    "#escolher o estado\n",
    "from selenium.webdriver import ActionChains\n",
    "\n",
    "botao =navegador.find_element(By.CLASS_NAME,\"dropdown-menu\")\n",
    "ActionChains(navegador).move_to_element(botao).perform() #movimenta o mouse para o hover aparecer\n",
    "\n",
    "navegador.find_element(By.XPATH,\"/html/body/div/div/div/a[2]\").click()\n",
    "#preencher formulario\n",
    "\n",
    "#clicar em Pesquisar\n",
    "#confirmar a pesquisa\n",
    "\n",
    "#esperar o resultado da pesquisa e agir de acordo com o resultado"
   ]
  }
 ],
 "metadata": {
  "kernelspec": {
   "display_name": "Python 3",
   "language": "python",
   "name": "python3"
  },
  "language_info": {
   "codemirror_mode": {
    "name": "ipython",
    "version": 3
   },
   "file_extension": ".py",
   "mimetype": "text/x-python",
   "name": "python",
   "nbconvert_exporter": "python",
   "pygments_lexer": "ipython3",
   "version": "3.11.4"
  }
 },
 "nbformat": 4,
 "nbformat_minor": 2
}
