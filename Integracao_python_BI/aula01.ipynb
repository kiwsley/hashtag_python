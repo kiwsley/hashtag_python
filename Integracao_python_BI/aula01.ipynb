{
 "cells": [
  {
   "cell_type": "code",
   "execution_count": null,
   "metadata": {},
   "outputs": [],
   "source": [
    "import pandas as pd"
   ]
  },
  {
   "cell_type": "code",
   "execution_count": null,
   "metadata": {},
   "outputs": [],
   "source": [
    "\n",
    "vendas_df = pd.read_csv(\"C:\\Users\\Kiwsley\\Documents\\Python - Hashtag\\hashtag_python\\Integracao_python_BI\\ Contoso - Vendas - 2017\")\n",
    "display(vendas_df)"
   ]
  }
 ],
 "metadata": {
  "language_info": {
   "name": "python"
  }
 },
 "nbformat": 4,
 "nbformat_minor": 2
}
