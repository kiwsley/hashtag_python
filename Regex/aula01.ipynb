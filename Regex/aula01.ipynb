{
 "cells": [
  {
   "cell_type": "code",
   "execution_count": 56,
   "metadata": {},
   "outputs": [],
   "source": [
    "import re\n",
    "\n",
    "texto = \"\"\"\n",
    "Bom dia,\n",
    "\n",
    "Seguem os orçamentos solicitados:\n",
    "\n",
    "\n",
    "Cerveja importada  (330 ml) - R$12,30598615178 - bebida\n",
    "Cerveja nacional (0,5 litros) - R$6,10 - bebida\n",
    "Garrafa de vinho (750ml) - R$39,90 - bebida\n",
    "Água (garrafa de 1,5 litros) - R$3,30 - bebida\n",
    "Alface (1 unidade) - R$3,50 - comida\n",
    "Cebolas (1kg) - R$5,10 - comida\n",
    "Batatas (1 kg) - R$5,20 - comida\n",
    "Tomates (1 kg) - R$7,90 - comida\n",
    "Laranjas (1 kg) - R$4,70 - comida\n",
    "Bananas (1kg) - R$5,50 - comida\n",
    "Maçãs (1 kg) - R$8,30 - comida\n",
    "Queijo fresco (1 kg) - R$42,90 - comida\n",
    "Uma dúzia de ovos(12) - R$9,80 - comida\n",
    "Arroz (1 kg) - R$5,70 - comida\n",
    "Um quilo de pão (1 kg) - R$7,20 - comida\n",
    "Leite (1 litro) - R$5,20 - bebida\n",
    "Azeite (1 unidade) - R$20 - tempero\n",
    "Pimenta Reino (20g) - R$5 - tempero\n",
    "\n",
    "\n",
    "Favor informar as quantidades desejadas \n",
    "para emissão da Nota Fiscal.\n",
    "\n",
    "Att.,\"\"\""
   ]
  },
  {
   "cell_type": "code",
   "execution_count": null,
   "metadata": {},
   "outputs": [],
   "source": []
  },
  {
   "cell_type": "code",
   "execution_count": 57,
   "metadata": {},
   "outputs": [
    {
     "name": "stdout",
     "output_type": "stream",
     "text": [
      "<re.Match object; span=(272, 278), match='comida'>\n",
      "<re.Match object; span=(304, 310), match='comida'>\n",
      "<re.Match object; span=(337, 343), match='comida'>\n",
      "<re.Match object; span=(370, 376), match='comida'>\n",
      "<re.Match object; span=(404, 410), match='comida'>\n",
      "<re.Match object; span=(436, 442), match='comida'>\n",
      "<re.Match object; span=(467, 473), match='comida'>\n",
      "<re.Match object; span=(507, 513), match='comida'>\n",
      "<re.Match object; span=(547, 553), match='comida'>\n",
      "<re.Match object; span=(578, 584), match='comida'>\n",
      "<re.Match object; span=(619, 625), match='comida'>\n",
      "5\n"
     ]
    }
   ],
   "source": [
    "padrao = re.compile(\"comida\")\n",
    "resultado = re.finditer(padrao,texto)\n",
    "for item in resultado:\n",
    "    print(item)\n",
    "\n",
    "#print(resultado)\n",
    "\n",
    "padrao = re.compile(\"bebida\")\n",
    "resultado = re.findall(padrao,texto)\n",
    "\n",
    "print(len(resultado))"
   ]
  },
  {
   "cell_type": "code",
   "execution_count": null,
   "metadata": {},
   "outputs": [],
   "source": []
  },
  {
   "cell_type": "code",
   "execution_count": 58,
   "metadata": {},
   "outputs": [
    {
     "name": "stdout",
     "output_type": "stream",
     "text": [
      "['$', '$', '$', '$', '$', '$', '$', '$', '$', '$', '$', '$', '$', '$', '$', '$', '$', '$']\n"
     ]
    }
   ],
   "source": [
    "padrao = re.compile(\"\\$\")\n",
    "resultado = re.findall(padrao,texto)\n",
    "print(resultado)"
   ]
  },
  {
   "cell_type": "code",
   "execution_count": 59,
   "metadata": {},
   "outputs": [
    {
     "name": "stdout",
     "output_type": "stream",
     "text": [
      "['Nome', 'Idade', 'salario']\n"
     ]
    }
   ],
   "source": [
    "novo_texto = \"Nome: Kiwsley Idade: 27 salario: 1000\"\n",
    "padrao = re.compile(r\"(\\w+):\")\n",
    "resultado = re.findall(padrao, novo_texto)\n",
    "print (resultado)"
   ]
  },
  {
   "cell_type": "code",
   "execution_count": null,
   "metadata": {},
   "outputs": [],
   "source": []
  },
  {
   "cell_type": "code",
   "execution_count": 60,
   "metadata": {},
   "outputs": [
    {
     "name": "stdout",
     "output_type": "stream",
     "text": [
      "['330', '12,30598615178', '0,5', '6,10', '750', '39,90', '1,5', '3,30', '3,50', '5,10', '5,20', '7,90', '4,70', '5,50', '8,30', '42,90', '12', '9,80', '5,70', '7,20', '5,20', '20', '20']\n"
     ]
    }
   ],
   "source": [
    "#extrair numero\n",
    "padrao = re.compile(r\"\\d+,?\\d+\")\n",
    "resultado = re.findall(padrao,texto)\n",
    "print(resultado)"
   ]
  },
  {
   "cell_type": "code",
   "execution_count": 61,
   "metadata": {},
   "outputs": [
    {
     "name": "stdout",
     "output_type": "stream",
     "text": [
      "<re.Match object; span=(66, 74), match='(330 ml)'>\n",
      "['(330 ml)', '(750ml)', '(1 unidade)', '(1kg)', '(1 kg)', '(1 kg)', '(1 kg)', '(1kg)', '(1 kg)', '(1 kg)', '(12)', '(1 kg)', '(1 kg)', '(1 litro)', '(1 unidade)', '(20g)']\n"
     ]
    }
   ],
   "source": [
    "padrao = re.compile(r\"\\(.+\\)\")\n",
    "resultado = re.search(padrao,texto)\n",
    "print(resultado)\n",
    "\n",
    "padrao = re.compile(r\"\\(\\d+\\s?\\w+\\)\")\n",
    "resultado = re.findall(padrao,texto)\n",
    "print(resultado)\n",
    "\n"
   ]
  },
  {
   "cell_type": "code",
   "execution_count": 62,
   "metadata": {},
   "outputs": [
    {
     "name": "stdout",
     "output_type": "stream",
     "text": [
      "<re.Match object; span=(77, 93), match='R$12,30598615178'>\n"
     ]
    }
   ],
   "source": [
    "#preço\n",
    "\n",
    "padrao = re.compile(r\"R\\$\\d+,?\\d+\")\n",
    "resultado = re.search(padrao,texto)\n",
    "print(resultado)"
   ]
  },
  {
   "cell_type": "code",
   "execution_count": 63,
   "metadata": {},
   "outputs": [
    {
     "name": "stdout",
     "output_type": "stream",
     "text": [
      "['12,30', '6,10', '39,90', '3,30', '3,50', '5,10', '5,20', '7,90', '4,70', '5,50', '8,30', '42,90', '9,80', '5,70', '7,20', '5,20', '20', '5']\n"
     ]
    }
   ],
   "source": [
    "#todos os preço\n",
    "#Sem o R$ \n",
    "padrao = re.compile(r\"R\\$(\\d+,?\\d{0,2})\")\n",
    "resultado = re.findall(padrao,texto)\n",
    "print(resultado)"
   ]
  },
  {
   "cell_type": "code",
   "execution_count": 64,
   "metadata": {},
   "outputs": [
    {
     "name": "stdout",
     "output_type": "stream",
     "text": [
      "['330 ml', '0,5 litros', '750ml', 'garrafa de 1,5 litros', '1 unidade', '1kg', '1 kg', '1 kg', '1 kg', '1kg', '1 kg', '1 kg', '12', '1 kg', '1 kg', '1 litro', '1 unidade', '20g']\n"
     ]
    }
   ],
   "source": [
    "#quantidade de itens\n",
    "\n",
    "padrao = re.compile(r\"\\((.+)\\)\")\n",
    "resultado = re.findall(padrao,texto)\n",
    "print(resultado)\n"
   ]
  },
  {
   "cell_type": "code",
   "execution_count": 79,
   "metadata": {},
   "outputs": [
    {
     "name": "stdout",
     "output_type": "stream",
     "text": [
      "[('https://portalhashtag.com', 'https://', '', 'com'), ('http://hashtagtreinamentos.com', 'http://', '', 'com'), ('https://www.wikipedia.org', 'https://', 'www.', 'org'), ('www.bcb.gov.br', '', 'www.', 'gov.br')]\n",
      "<re.Match object; span=(56, 81), match='https://portalhashtag.com'>\n",
      "<re.Match object; span=(82, 112), match='http://hashtagtreinamentos.com'>\n",
      "<re.Match object; span=(113, 138), match='https://www.wikipedia.org'>\n",
      "<re.Match object; span=(140, 154), match='www.bcb.gov.br'>\n"
     ]
    }
   ],
   "source": [
    "texto2 = \"\"\"\n",
    "Olá\n",
    "\n",
    "Segue o relatório de SEO para os seguintes sites:\n",
    "https://portalhashtag.com\n",
    "http://hashtagtreinamentos.com\n",
    "https://www.wikipedia.org/\n",
    "www.bcb.gov.br/\n",
    "\n",
    "Qualquer dúvida estamos à disposição\"\"\"\n",
    "\n",
    "padrao = re.compile(r'((https?://)?(www\\.)?\\w+\\.(com\\.br|com|org|gov\\.br))')\n",
    "resultado1 = re.findall(padrao, texto2)\n",
    "resultado2 = re.finditer(padrao, texto2)\n",
    "\n",
    "print(resultado1)\n",
    "for item in resultado2:\n",
    "    print(item)"
   ]
  },
  {
   "cell_type": "code",
   "execution_count": 80,
   "metadata": {},
   "outputs": [
    {
     "name": "stdout",
     "output_type": "stream",
     "text": [
      "http://hashtagtreinamentos.com\n",
      "['http']\n",
      "https://vimeo.com/\n",
      "['http']\n",
      "https://youtube.com/\n",
      "['http']\n",
      "Pesquisar no Google: http://google.com\n",
      "[]\n",
      "http://wikipedia.org\n",
      "['http']\n",
      "http://google.com\n",
      "['http']\n",
      "http://bcb.gov.br/\n",
      "['http']\n",
      "Pesquisar no Bing\n",
      "[]\n"
     ]
    }
   ],
   "source": [
    "informacoes = [\n",
    "    \"http://hashtagtreinamentos.com\", \n",
    "    \"https://vimeo.com/\",\n",
    "    \"https://youtube.com/\",\n",
    "    \"Pesquisar no Google: http://google.com\",\n",
    "    \"http://wikipedia.org\",\n",
    "    \"http://google.com\",\n",
    "    \"http://bcb.gov.br/\",\n",
    "    \"Pesquisar no Bing\",\n",
    "]\n",
    "\n",
    "#^ começa com\n",
    "\n",
    "padrao = re.compile(r'^http')\n",
    "\n",
    "for item in informacoes:\n",
    "    print (item)\n",
    "    resultado= re.findall(padrao,item)\n",
    "    print(resultado)"
   ]
  },
  {
   "cell_type": "code",
   "execution_count": 81,
   "metadata": {},
   "outputs": [
    {
     "name": "stdout",
     "output_type": "stream",
     "text": [
      "http://hashtagtreinamentos.com\n",
      "['.com']\n",
      "https://vimeo.com/\n",
      "[]\n",
      "https://youtube.com/\n",
      "[]\n",
      "Pesquisar no Google: http://google.com\n",
      "['.com']\n",
      "http://wikipedia.org\n",
      "[]\n",
      "http://google.com\n",
      "['.com']\n",
      "http://bcb.gov.br/\n",
      "[]\n",
      "Pesquisar no Bing\n",
      "[]\n"
     ]
    }
   ],
   "source": [
    "# $ termina com\n",
    "padrao = re.compile(r'.com$')\n",
    "\n",
    "for item in informacoes:\n",
    "    print (item)\n",
    "    resultado= re.findall(padrao,item)\n",
    "    print(resultado)"
   ]
  },
  {
   "cell_type": "code",
   "execution_count": 87,
   "metadata": {},
   "outputs": [
    {
     "name": "stdout",
     "output_type": "stream",
     "text": [
      "http://hashtagtreinamentos.com\n",
      "['http://hashtagtreinamentos.com']\n",
      "https://vimeo.com/\n",
      "['https://vimeo.com/']\n",
      "https://youtube.com/\n",
      "['https://youtube.com/']\n",
      "Pesquisar no Google: http://google.com\n",
      "['http://google.com']\n",
      "http://wikipedia.org\n",
      "['http://wikipedia.org']\n",
      "http://google.com\n",
      "['http://google.com']\n",
      "http://bcb.gov.br/\n",
      "[]\n",
      "Pesquisar no Bing\n",
      "[]\n"
     ]
    }
   ],
   "source": [
    "#todos menos .gov\n",
    "\n",
    "padrao = re.compile(r'http[a-z:/]+\\.[^g].+')\n",
    "\n",
    "\n",
    "for item in informacoes:\n",
    "    print (item)\n",
    "    resultado= re.findall(padrao,item)\n",
    "    print(resultado)\n"
   ]
  }
 ],
 "metadata": {
  "kernelspec": {
   "display_name": "Python 3",
   "language": "python",
   "name": "python3"
  },
  "language_info": {
   "codemirror_mode": {
    "name": "ipython",
    "version": 3
   },
   "file_extension": ".py",
   "mimetype": "text/x-python",
   "name": "python",
   "nbconvert_exporter": "python",
   "pygments_lexer": "ipython3",
   "version": "3.11.4"
  }
 },
 "nbformat": 4,
 "nbformat_minor": 2
}
