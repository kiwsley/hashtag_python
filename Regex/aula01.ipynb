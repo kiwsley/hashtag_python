{
 "cells": [
  {
   "cell_type": "code",
   "execution_count": 7,
   "metadata": {},
   "outputs": [],
   "source": [
    "import re\n",
    "\n",
    "texto = \"\"\"\n",
    "Bom dia,\n",
    "\n",
    "Seguem os orçamentos solicitados:\n",
    "\n",
    "\n",
    "Cerveja importada (330 ml) - R$12,30598615178 - bebida\n",
    "Cerveja nacional (0,5 litros) - R$6,10 - bebida\n",
    "Garrafa de vinho (750ml) - R$39,90 - bebida\n",
    "Água (garrafa de 1,5 litros) - R$3,30 - bebida\n",
    "Alface (1 unidade) - R$3,50 - comida\n",
    "Cebolas (1kg) - R$5,10 - comida\n",
    "Batatas (1 kg) - R$5,20 - comida\n",
    "Tomates (1 kg) - R$7,90 - comida\n",
    "Laranjas (1 kg) - R$4,70 - comida\n",
    "Bananas (1kg) - R$5,50 - comida\n",
    "Maçãs (1 kg) - R$8,30 - comida\n",
    "Queijo fresco (1 kg) - R$42,90 - comida\n",
    "Uma dúzia de ovos(12) - R$9,80 - comida\n",
    "Arroz (1 kg) - R$5,70 - comida\n",
    "Um quilo de pão (1 kg) - R$7,20 - comida\n",
    "Leite (1 litro) - R$5,20 - bebida\n",
    "Azeite (1 unidade) - R$20 - tempero\n",
    "Pimenta Reino (20g) - R$5 - tempero\n",
    "\n",
    "\n",
    "Favor informar as quantidades desejadas \n",
    "para emissão da Nota Fiscal.\n",
    "\n",
    "Att.,\"\"\""
   ]
  },
  {
   "cell_type": "code",
   "execution_count": 11,
   "metadata": {},
   "outputs": [
    {
     "name": "stdout",
     "output_type": "stream",
     "text": [
      "<re.Match object; span=(271, 277), match='comida'>\n",
      "<re.Match object; span=(303, 309), match='comida'>\n",
      "<re.Match object; span=(336, 342), match='comida'>\n",
      "<re.Match object; span=(369, 375), match='comida'>\n",
      "<re.Match object; span=(403, 409), match='comida'>\n",
      "<re.Match object; span=(435, 441), match='comida'>\n",
      "<re.Match object; span=(466, 472), match='comida'>\n",
      "<re.Match object; span=(506, 512), match='comida'>\n",
      "<re.Match object; span=(546, 552), match='comida'>\n",
      "<re.Match object; span=(577, 583), match='comida'>\n",
      "<re.Match object; span=(618, 624), match='comida'>\n",
      "5\n"
     ]
    }
   ],
   "source": [
    "padrao = re.compile(\"comida\")\n",
    "resultado = re.finditer(padrao,texto)\n",
    "for item in resultado:\n",
    "    print(item)\n",
    "\n",
    "#print(resultado)\n",
    "\n",
    "padrao = re.compile(\"bebida\")\n",
    "resultado = re.findall(padrao,texto)\n",
    "\n",
    "print(len(resultado))"
   ]
  },
  {
   "cell_type": "code",
   "execution_count": null,
   "metadata": {},
   "outputs": [],
   "source": []
  },
  {
   "cell_type": "code",
   "execution_count": 12,
   "metadata": {},
   "outputs": [
    {
     "name": "stdout",
     "output_type": "stream",
     "text": [
      "['$', '$', '$', '$', '$', '$', '$', '$', '$', '$', '$', '$', '$', '$', '$', '$', '$', '$']\n"
     ]
    }
   ],
   "source": [
    "padrao = re.compile(\"\\$\")\n",
    "resultado = re.findall(padrao,texto)\n",
    "print(resultado)"
   ]
  },
  {
   "cell_type": "code",
   "execution_count": 21,
   "metadata": {},
   "outputs": [
    {
     "name": "stdout",
     "output_type": "stream",
     "text": [
      "['330', '12,30598615178', '0,5', '6,10', '750', '39,90', '1,5', '3,30', '3,50', '5,10', '5,20', '7,90', '4,70', '5,50', '8,30', '42,90', '12', '9,80', '5,70', '7,20', '5,20', '20', '20']\n"
     ]
    }
   ],
   "source": [
    "padrao = re.compile(r\"\\d+,?\\d+\")\n",
    "resultado = re.findall(padrao,texto)\n",
    "print(resultado)"
   ]
  }
 ],
 "metadata": {
  "kernelspec": {
   "display_name": "Python 3",
   "language": "python",
   "name": "python3"
  },
  "language_info": {
   "codemirror_mode": {
    "name": "ipython",
    "version": 3
   },
   "file_extension": ".py",
   "mimetype": "text/x-python",
   "name": "python",
   "nbconvert_exporter": "python",
   "pygments_lexer": "ipython3",
   "version": "3.11.4"
  }
 },
 "nbformat": 4,
 "nbformat_minor": 2
}
