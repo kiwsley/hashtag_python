{
 "cells": [
  {
   "cell_type": "code",
   "execution_count": 8,
   "metadata": {},
   "outputs": [
    {
     "name": "stdout",
     "output_type": "stream",
     "text": [
      "24\n"
     ]
    }
   ],
   "source": [
    "#Separar pagina do DRE de Resultados (página 14)\n",
    "\n",
    "import PyPDF2 as pyf\n",
    "from pathlib import Path\n",
    "\n",
    "nome = 'MGLU_ER_3T20_POR.pdf'\n",
    "arquivo_pdf = pyf.PdfReader(nome)\n",
    "\n",
    "print(len(arquivo_pdf.pages))\n",
    "\n",
    "for i, pagina in enumerate(arquivo_pdf.pages):\n",
    "    num_pagina = i +1\n",
    "    novo_pdf = pyf.PdfWriter()\n",
    "    novo_pdf.add_page(pagina)\n",
    "    with Path(f\"paginas/Arquivo Pagina {num_pagina}.pdf\").open(mode=\"wb\") as arquivo:\n",
    "        novo_pdf.write(arquivo)\n",
    "\n"
   ]
  },
  {
   "cell_type": "code",
   "execution_count": 10,
   "metadata": {},
   "outputs": [],
   "source": [
    "#Juntas varios PDF\n",
    "\n",
    "num_pagina = [1,14,16]\n",
    "\n",
    "novo_arquivo = pyf.PdfWriter()\n",
    "for num in num_pagina:\n",
    "    pagina_pdf = pyf.PdfReader(f\"paginas/Arquivo Pagina {num}.pdf\")\n",
    "    novo_arquivo.add_page(pagina_pdf.pages[0])\n",
    "\n",
    "with Path(f\"Consolidado.pdf\").open(mode=\"wb\") as arquivo:\n",
    "        novo_arquivo.write(arquivo)"
   ]
  },
  {
   "cell_type": "code",
   "execution_count": 11,
   "metadata": {},
   "outputs": [],
   "source": [
    "pdf_mesclado = pyf.PdfMerger()\n",
    "\n",
    "pdf_mesclado.append('MGLU_ER_3T20_POR.pdf')\n",
    "pdf_mesclado.append('MGLU_ER_4T20_POR.pdf')\n",
    "\n",
    "#escrevendo o arquivo\n",
    "with Path(f\"ConsolidadoMesclado.pdf\").open(mode=\"wb\") as arquivo:\n",
    "        pdf_mesclado.write(arquivo)\n"
   ]
  },
  {
   "cell_type": "code",
   "execution_count": 12,
   "metadata": {},
   "outputs": [],
   "source": [
    "pdf_mesclado = pyf.PdfMerger()\n",
    "\n",
    "pdf_mesclado.append('MGLU_ER_4T20_POR.pdf') \n",
    "pdf_mesclado.merge(1,'paginas/Arquivo Pagina 1.pdf')\n",
    "\n",
    "#escrevendo o arquivo\n",
    "with Path(f\"relatorio 2 trimestres.pdf\").open(mode=\"wb\") as arquivo:\n",
    "        pdf_mesclado.write(arquivo)\n"
   ]
  },
  {
   "cell_type": "code",
   "execution_count": 14,
   "metadata": {},
   "outputs": [],
   "source": [
    "#rodar pagina\n",
    "\n",
    "arquivo_pdf_original = pyf.PdfReader(\"MGLU_ER_3T20_POR.pdf\")\n",
    "novo_arquivo = pyf.PdfWriter()\n",
    "\n",
    "for pagina in arquivo_pdf_original.pages:\n",
    "    pagina.rotate(90)\n",
    "    novo_arquivo.add_page(pagina)\n",
    "    with Path(f\"paginasrotacionadas.pdf\").open(mode=\"wb\") as arquivo:\n",
    "        novo_arquivo.write(arquivo)\n",
    "\n",
    "\n",
    "\n",
    "\n"
   ]
  },
  {
   "cell_type": "code",
   "execution_count": 15,
   "metadata": {},
   "outputs": [
    {
     "name": "stdout",
     "output_type": "stream",
     "text": [
      "24\n",
      "{'/Title': 'DESEMPENHO FINANCEIRO CONSOLIDADO', '/Author': 'an_rezende', '/Subject': 'Receita Bruta', '/Creator': 'Microsoft® Office Word 2007', '/CreationDate': \"D:20201109183121-03'00'\", '/ModDate': \"D:20201109183121-03'00'\", '/Producer': 'Microsoft® Office Word 2007'}\n"
     ]
    }
   ],
   "source": [
    "arquivo = pyf.PdfReader(\"MGLU_ER_3T20_POR.pdf\")\n",
    "qtde_paginas = len(arquivo.pages)\n",
    "\n",
    "print(qtde_paginas)\n",
    "\n",
    "metadados_arquivos = arquivo.metadata\n",
    "print(metadados_arquivos)"
   ]
  },
  {
   "cell_type": "code",
   "execution_count": 26,
   "metadata": {},
   "outputs": [
    {
     "name": "stdout",
     "output_type": "stream",
     "text": [
      "pagina 10\n",
      "| Despesas com Vendas  \n",
      " \n",
      "No 3T20, as despesas com vendas totalizaram R$1.432,6 milhões, equivalentes a 17,2% da receita líquida, 1,1 p.p. menor que no \n",
      "3T19 , principalmente devido ao forte crescimento das vendas . Vale ressaltar que a Companhia conseguiu diluir as despesas com \n",
      "vendas m esmo investi ndo em maior nível de serviço,  especialmente em  atendimento e logística.  \n",
      " \n",
      "Nos 9M20, as despesas com vendas totalizaram R$3.487,2 milhões, equivalentes a 18,2% da receita líquida (+1,1 p.p. versus  os \n",
      "9M19).  \n",
      " \n",
      "\n"
     ]
    }
   ],
   "source": [
    "texto_referencia = \"| Despesas com Vendas\"\n",
    "\n",
    "for i, pagina in enumerate(arquivo.pages):\n",
    "    texto_pagina = pagina.extract_text()\n",
    "    if texto_referencia in texto_pagina:\n",
    "        print (\"pagina\", i+1)\n",
    "        texto_analisar = texto_pagina\n",
    "#print(texto_analisar)\n",
    "\n",
    "posicao_inicial = texto_analisar.find(texto_referencia)\n",
    "posicao_final = texto_analisar.find(\"|\",posicao_inicial+1)\n",
    "\n",
    "texto_final = texto_analisar[posicao_inicial:posicao_final]\n",
    "\n",
    "print(texto_final)"
   ]
  }
 ],
 "metadata": {
  "kernelspec": {
   "display_name": "Python 3",
   "language": "python",
   "name": "python3"
  },
  "language_info": {
   "codemirror_mode": {
    "name": "ipython",
    "version": 3
   },
   "file_extension": ".py",
   "mimetype": "text/x-python",
   "name": "python",
   "nbconvert_exporter": "python",
   "pygments_lexer": "ipython3",
   "version": "3.11.4"
  }
 },
 "nbformat": 4,
 "nbformat_minor": 2
}
