{
 "cells": [
  {
   "cell_type": "code",
   "execution_count": 16,
   "metadata": {},
   "outputs": [
    {
     "name": "stdout",
     "output_type": "stream",
     "text": [
      "Quantidade Anuncio: 274\n",
      "Quantidade Organico: 226\n",
      "Quantidade youtube: 155\n",
      "Quantidade instagram: 24\n",
      "Quantidade Site: 73\n"
     ]
    }
   ],
   "source": [
    "arquivo = open(\"Alunos.txt\",'r')\n",
    "\n",
    "linhas = arquivo.readlines()\n",
    "\n",
    "del linhas[:4]\n",
    "#print(linhas)\n",
    "\n",
    "#criar indicadores\n",
    "\n",
    "qtde_anuncio=0\n",
    "qtde_org =0\n",
    "qtde_yt_org=0\n",
    "qtde_igfb_org=0\n",
    "qtde_site_org=0\n",
    "\n",
    "for linha in linhas:\n",
    "    email, origem = linha.split(',') \n",
    "    if '_org' in origem:\n",
    "        qtde_org+=1\n",
    "        if 'hashtag_yt_org' in origem:\n",
    "            qtde_yt_org +=1\n",
    "        if 'hashtag_site_org' in origem:\n",
    "            qtde_site_org +=1\n",
    "        if 'hashtag_ig_org' in origem or 'hashtag_igfb_org' in origem:\n",
    "            qtde_igfb_org+=1\n",
    "\n",
    "    else: \n",
    "        qtde_anuncio+=1\n",
    "\n",
    "arquivo.close()\n",
    "\n",
    "\n",
    "print(\"Quantidade Anuncio: {}\".format(qtde_anuncio))\n",
    "print(\"Quantidade Organico: {}\".format(qtde_org))\n",
    "print(\"Quantidade youtube: {}\".format(qtde_yt_org))\n",
    "print(\"Quantidade instagram: {}\".format(qtde_igfb_org))\n",
    "print(\"Quantidade Site: {}\".format(qtde_site_org))\n",
    "\n",
    "\n"
   ]
  },
  {
   "cell_type": "code",
   "execution_count": 20,
   "metadata": {},
   "outputs": [],
   "source": [
    "with open(\"analiseAlunos.txt\",'w') as arquivo2: \n",
    "    arquivo2.write(f\"Quantidade Anuncio: {qtde_anuncio}\\n\")\n",
    "    arquivo2.write(f\"Quantidade Organico: {qtde_org}\\n\")\n",
    "    arquivo2.write(f\"Quantidade youtube: {qtde_yt_org}\\n\")\n",
    "    arquivo2.write(f\"Quantidade instagram: {qtde_igfb_org}\\n\")\n",
    "    arquivo2.write(f\"Quantidade Site: {qtde_site_org}\\n\")"
   ]
  }
 ],
 "metadata": {
  "kernelspec": {
   "display_name": "Python 3",
   "language": "python",
   "name": "python3"
  },
  "language_info": {
   "codemirror_mode": {
    "name": "ipython",
    "version": 3
   },
   "file_extension": ".py",
   "mimetype": "text/x-python",
   "name": "python",
   "nbconvert_exporter": "python",
   "pygments_lexer": "ipython3",
   "version": "3.11.4"
  }
 },
 "nbformat": 4,
 "nbformat_minor": 2
}
