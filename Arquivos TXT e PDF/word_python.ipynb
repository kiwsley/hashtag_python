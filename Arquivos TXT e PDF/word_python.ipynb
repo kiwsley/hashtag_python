{
 "cells": [
  {
   "cell_type": "code",
   "execution_count": 42,
   "metadata": {},
   "outputs": [],
   "source": [
    "from docx import Document\n"
   ]
  },
  {
   "cell_type": "code",
   "execution_count": 43,
   "metadata": {},
   "outputs": [],
   "source": [
    "#criando o documento\n",
    "documento = Document()\n",
    "\n",
    "faturamento = 1000\n",
    "\n",
    "#edita tudo\n",
    "texto =f\"\"\" olá tudo bem? \n",
    "O faturamento da empresa foi de R$ \n",
    "\"\"\"\n",
    "texto_final =f\"\"\" tamo junto \"\"\"\n",
    "\n",
    "\n",
    "#formatação\n",
    "\n",
    "from docx.shared import Pt,RGBColor, Cm\n",
    "from docx.enum.style import WD_STYLE_TYPE\n",
    "\n",
    "paragrafo.style = documento.styles.add_style(\"estilo kiw\",WD_STYLE_TYPE.PARAGRAPH)\n",
    "paragrafo.style.font.name = \"Algerian\"\n",
    "paragrafo.style.font.size = Pt(15)\n",
    "paragrafo.style.font.bold = True\n",
    "paragrafo.style.font.italic = True\n",
    "\n",
    "\n",
    "paragrafo = documento.add_paragraph(texto)\n",
    "\n",
    "paragrafo.add_run(f\"R$ {faturamento}\").bold =True\n",
    "\n",
    "paragrafo = documento.add_paragraph(texto_final)\n",
    "\n",
    "#implementando tudo que fizemos\n",
    "documento.save(\"texto.docx\")"
   ]
  }
 ],
 "metadata": {
  "kernelspec": {
   "display_name": "Python 3",
   "language": "python",
   "name": "python3"
  },
  "language_info": {
   "codemirror_mode": {
    "name": "ipython",
    "version": 3
   },
   "file_extension": ".py",
   "mimetype": "text/x-python",
   "name": "python",
   "nbconvert_exporter": "python",
   "pygments_lexer": "ipython3",
   "version": "3.11.4"
  }
 },
 "nbformat": 4,
 "nbformat_minor": 2
}
