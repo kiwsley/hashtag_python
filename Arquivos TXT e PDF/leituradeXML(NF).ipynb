{
 "cells": [
  {
   "cell_type": "code",
   "execution_count": 27,
   "metadata": {},
   "outputs": [],
   "source": [
    "import xmltodict\n",
    "import pandas as pd\n",
    "import openpyxl\n",
    "import os\n"
   ]
  },
  {
   "cell_type": "code",
   "execution_count": 33,
   "metadata": {},
   "outputs": [
    {
     "name": "stdout",
     "output_type": "stream",
     "text": [
      "{'valor_total': ['374.17'], 'CNPJ_vendedor': ['36882195000279'], 'Nome_vendeu': ['BROTA COMPANY COMERCIO DE PLANTAS LTDA'], 'cpf_comprador': ['10000000000'], 'nome_comprou': ['Lira da Hashtag'], 'Lista_ produto': [[('b.box led', '389.00'), ('Tomilho Serpilho', '10.00'), ('Oregano Bravo-Europeu', '10.00'), ('Manjericao Italiano', '10.00'), ('Coentro Portugues', '10.00'), ('Salsa Hortense', '10.00'), ('Alface Baby-Leaf', '10.00')]]}\n",
      "{'valor_total': ['849.00'], 'CNPJ_vendedor': ['60409075055054'], 'Nome_vendeu': ['NESTLE BRASIL LTDA'], 'cpf_comprador': ['11122233344'], 'nome_comprou': ['Lira da Hashtag'], 'Lista_ produto': [[('ESSENZA Mini C30 Metal 110V', '534.82'), ('NOMAD Travel Mug Festve Medium', '104.35'), ('Pack YEP 2021 50 Caps OL', '130.00')]]}\n",
      "{'valor_total': ['4500'], 'CNPJ_vendedor': ['30000000000101'], 'Nome_vendeu': ['LIRA BOLADO NO XML'], 'cpf_comprador': ['26344392000108'], 'nome_comprou': ['HASHTAG TREINAMENTOS LTDA'], 'Lista_ produto': ['Nota referente aos serviços realizados no mês de Novembro de 2021.']}\n"
     ]
    }
   ],
   "source": [
    "def ler_danfe(nota):\n",
    "\n",
    "    with open(nota, 'rb') as arquivo:\n",
    "        documento = xmltodict.parse(arquivo) #transformando em dicionario\n",
    "        #print(documento)\n",
    "    #valor total, produtos/servico, CNPJ Empresa, nome de quem vendeu, nome e cpf/cnpj de quem comprou \n",
    "\n",
    "    dicionario_nf= documento['nfeProc']['NFe']['infNFe']\n",
    "\n",
    "    valor_total = dicionario_nf['total']['ICMSTot']['vNF']\n",
    "    CNPJ_vendedor = dicionario_nf['emit']['CNPJ']\n",
    "    Nome_vendeu= dicionario_nf['emit']['xNome']\n",
    "    cpf_comprador = dicionario_nf['dest']['CPF']\n",
    "    nome_comprou= dicionario_nf['dest']['xNome']\n",
    "    produto = dicionario_nf['det']\n",
    "    lista_produto = []\n",
    "\n",
    "    for produto in produto:\n",
    "        valor_produto= produto['prod']['vProd']\n",
    "        nome_produto = produto['prod']['xProd']\n",
    "        lista_produto.append((nome_produto,valor_produto))\n",
    "\n",
    "    resposta ={\n",
    "        'valor_total' : [valor_total],\n",
    "        'CNPJ_vendedor': [CNPJ_vendedor],\n",
    "        'Nome_vendeu': [Nome_vendeu],\n",
    "        'cpf_comprador': [cpf_comprador],\n",
    "        'nome_comprou': [nome_comprou],\n",
    "        'Lista_ produto': [lista_produto]\n",
    "    }\n",
    "\n",
    "    return resposta\n",
    "\n",
    "\n",
    "def ler_xml_servico(nota):\n",
    "\n",
    "    with open(nota, 'rb') as arquivo:\n",
    "        documento = xmltodict.parse(arquivo) #transformando em dicionario\n",
    "        #print(documento)\n",
    "    #valor total, produtos/servico, CNPJ Empresa, nome de quem vendeu, nome e cpf/cnpj de quem comprou \n",
    "\n",
    "    dicionario_nf= documento['ConsultarNfseResposta']['ListaNfse']['CompNfse']['Nfse']['InfNfse']\n",
    "\n",
    "    valor_total = dicionario_nf['Servico']['Valores']['ValorServicos']\n",
    "    CNPJ_vendedor = dicionario_nf['PrestadorServico']['IdentificacaoPrestador']['Cnpj']\n",
    "    Nome_vendeu= dicionario_nf['PrestadorServico']['RazaoSocial']\n",
    "    cpf_comprador = dicionario_nf['TomadorServico']['IdentificacaoTomador']['CpfCnpj']['Cnpj']\n",
    "    nome_comprou= dicionario_nf['TomadorServico']['RazaoSocial']\n",
    "    produto = dicionario_nf['Servico']['Discriminacao']\n",
    "    \n",
    "\n",
    "    resposta ={\n",
    "        'valor_total' : [valor_total],\n",
    "        'CNPJ_vendedor': [CNPJ_vendedor],\n",
    "        'Nome_vendeu': [Nome_vendeu],\n",
    "        'cpf_comprador': [cpf_comprador],\n",
    "        'nome_comprou': [nome_comprou],\n",
    "        'Lista_ produto': [produto]\n",
    "    }\n",
    "\n",
    "    return resposta\n",
    "\n",
    "\n",
    "lista_arquivos = os.listdir(\"NFs Finais\")\n",
    "for arquivo in lista_arquivos:\n",
    "    if \"xml\" in arquivo:\n",
    "        if'DANFE' in arquivo:\n",
    "            print(ler_danfe(f\"NFs Finais/{arquivo}\"))\n",
    "        else: \n",
    "            print(ler_xml_servico(f'NFs Finais/{arquivo}'))\n",
    "\n"
   ]
  },
  {
   "cell_type": "code",
   "execution_count": 22,
   "metadata": {},
   "outputs": [
    {
     "name": "stdout",
     "output_type": "stream",
     "text": [
      "{'valor_total': ['374.17'], 'CNPJ_vendedor': ['36882195000279'], 'Nome_vendeu': ['BROTA COMPANY COMERCIO DE PLANTAS LTDA'], 'cpf_comprador': ['10000000000'], 'nome_comprou': ['Lira da Hashtag'], 'Lista_ produto': [[('b.box led', '389.00'), ('Tomilho Serpilho', '10.00'), ('Oregano Bravo-Europeu', '10.00'), ('Manjericao Italiano', '10.00'), ('Coentro Portugues', '10.00'), ('Salsa Hortense', '10.00'), ('Alface Baby-Leaf', '10.00')]]}\n",
      "{'valor_total': ['849.00'], 'CNPJ_vendedor': ['60409075055054'], 'Nome_vendeu': ['NESTLE BRASIL LTDA'], 'cpf_comprador': ['11122233344'], 'nome_comprou': ['Lira da Hashtag'], 'Lista_ produto': [[('ESSENZA Mini C30 Metal 110V', '534.82'), ('NOMAD Travel Mug Festve Medium', '104.35'), ('Pack YEP 2021 50 Caps OL', '130.00')]]}\n"
     ]
    }
   ],
   "source": [
    "#tabela = pd.DataFrame.from_dict(resposta)\n",
    "#tabela.to_excel(\"nfe.xlsx\")\n",
    "\n"
   ]
  }
 ],
 "metadata": {
  "kernelspec": {
   "display_name": "Python 3",
   "language": "python",
   "name": "python3"
  },
  "language_info": {
   "codemirror_mode": {
    "name": "ipython",
    "version": 3
   },
   "file_extension": ".py",
   "mimetype": "text/x-python",
   "name": "python",
   "nbconvert_exporter": "python",
   "pygments_lexer": "ipython3",
   "version": "3.11.4"
  }
 },
 "nbformat": 4,
 "nbformat_minor": 2
}
